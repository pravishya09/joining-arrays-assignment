{
 "cells": [
  {
   "cell_type": "markdown",
   "id": "ce48a0a0-fe5a-4e1a-8f22-97c808ab9540",
   "metadata": {},
   "source": [
    "JOIN AND SPLIT FUNCTIONS"
   ]
  },
  {
   "cell_type": "markdown",
   "id": "827ec2c6-0a99-4846-98d4-1a0a5e8e5524",
   "metadata": {},
   "source": [
    "CREATE A NUMPY ARRAYS AND JOIN THEM BOTH HORIZONTALLY AND VERTICALLY (BOTH 2-D AND 3-D)"
   ]
  },
  {
   "cell_type": "code",
   "execution_count": 7,
   "id": "91f97c90-31c4-41b5-8d74-9301e2750cc3",
   "metadata": {},
   "outputs": [
    {
     "name": "stdout",
     "output_type": "stream",
     "text": [
      "Requirement already satisfied: numpy in c:\\users\\91994\\anaconda3\\lib\\site-packages (1.26.4)\n",
      "Note: you may need to restart the kernel to use updated packages.\n"
     ]
    }
   ],
   "source": [
    "pip install numpy "
   ]
  },
  {
   "cell_type": "code",
   "execution_count": null,
   "id": "57d02947-360b-43ee-a870-61fd2f6151e8",
   "metadata": {},
   "outputs": [],
   "source": []
  },
  {
   "cell_type": "code",
   "execution_count": null,
   "id": "f7d34dcb-e36b-45b1-a1b3-0586cab3a3d5",
   "metadata": {},
   "outputs": [],
   "source": []
  },
  {
   "cell_type": "code",
   "execution_count": 11,
   "id": "5edc892c-2abf-4030-beb8-9f96f3697f7b",
   "metadata": {},
   "outputs": [],
   "source": [
    "import numpy as np"
   ]
  },
  {
   "cell_type": "code",
   "execution_count": 15,
   "id": "38737af3-d487-4520-b7ae-7cbf1e66e3a7",
   "metadata": {},
   "outputs": [
    {
     "name": "stdout",
     "output_type": "stream",
     "text": [
      "[[2 3 4]\n",
      " [5 6 7]]\n"
     ]
    }
   ],
   "source": [
    "array1=np.array([[2,3,4],[5,6,7]])\n",
    "print(array1)"
   ]
  },
  {
   "cell_type": "code",
   "execution_count": 21,
   "id": "46fd94c7-3ec5-4776-86d0-4f559f24a1a9",
   "metadata": {},
   "outputs": [
    {
     "name": "stdout",
     "output_type": "stream",
     "text": [
      "[[2 1 1]\n",
      " [5 5 7]]\n"
     ]
    }
   ],
   "source": [
    "array2=np.array([[2,1,1],[5,5,7]])\n",
    "print(array2)"
   ]
  },
  {
   "cell_type": "markdown",
   "id": "6ef3b3b2-f90e-486b-9e60-aae3bf7856f6",
   "metadata": {},
   "source": [
    "HORIZONTAL JOIN"
   ]
  },
  {
   "cell_type": "code",
   "execution_count": 25,
   "id": "f140f50d-5dd1-45c1-a0f8-dce45412a8e4",
   "metadata": {},
   "outputs": [
    {
     "name": "stdout",
     "output_type": "stream",
     "text": [
      "[[2 3 4 2 1 1]\n",
      " [5 6 7 5 5 7]]\n"
     ]
    }
   ],
   "source": [
    "hjoin=np.hstack((array1,array2))\n",
    "print(hjoin)"
   ]
  },
  {
   "cell_type": "markdown",
   "id": "88fa11b4-2bc8-4530-9dab-af9f204d248b",
   "metadata": {},
   "source": [
    "VERTICAL JOIN"
   ]
  },
  {
   "cell_type": "code",
   "execution_count": 35,
   "id": "9bb9f4f1-a790-485b-bd4a-cd5ba991c23b",
   "metadata": {},
   "outputs": [
    {
     "name": "stdout",
     "output_type": "stream",
     "text": [
      "[[2 3 4]\n",
      " [5 6 7]\n",
      " [2 1 1]\n",
      " [5 5 7]]\n"
     ]
    }
   ],
   "source": [
    "vjoin=np.vstack((array1,array2))\n",
    "print(vjoin)"
   ]
  },
  {
   "cell_type": "markdown",
   "id": "8f8aa36c-0841-466a-8f3f-648e547387ce",
   "metadata": {},
   "source": [
    "3 DIMENSIONAL"
   ]
  },
  {
   "cell_type": "code",
   "execution_count": 29,
   "id": "4292877b-f305-443e-beb8-fd0108643416",
   "metadata": {},
   "outputs": [
    {
     "name": "stdout",
     "output_type": "stream",
     "text": [
      "[[[1 2 3]\n",
      "  [3 4 5]]\n",
      "\n",
      " [[3 4 3]\n",
      "  [2 1 1]]]\n"
     ]
    }
   ],
   "source": [
    "array4=np.array([[[1,2,3],[3,4,5]],[[3,4,3],[2,1,1]]])\n",
    "print(array4)"
   ]
  },
  {
   "cell_type": "code",
   "execution_count": 31,
   "id": "cfd8a0c2-2d00-466d-a8d2-55454943f67d",
   "metadata": {},
   "outputs": [
    {
     "name": "stdout",
     "output_type": "stream",
     "text": [
      "[[[3 2 3]\n",
      "  [8 4 9]]\n",
      "\n",
      " [[4 4 1]\n",
      "  [3 8 1]]]\n"
     ]
    }
   ],
   "source": [
    "array5=np.array([[[3,2,3],[8,4,9]],[[4,4,1],[3,8,1]]])\n",
    "print(array5)"
   ]
  },
  {
   "cell_type": "markdown",
   "id": "18711f41-6705-42bf-bc8f-b2e9fe747801",
   "metadata": {},
   "source": [
    "VERTICAL JOIN"
   ]
  },
  {
   "cell_type": "code",
   "execution_count": 33,
   "id": "e8f16675-b050-486b-8207-ce0fd598540a",
   "metadata": {},
   "outputs": [
    {
     "name": "stdout",
     "output_type": "stream",
     "text": [
      "[[[1 2 3]\n",
      "  [3 4 5]]\n",
      "\n",
      " [[3 4 3]\n",
      "  [2 1 1]]\n",
      "\n",
      " [[3 2 3]\n",
      "  [8 4 9]]\n",
      "\n",
      " [[4 4 1]\n",
      "  [3 8 1]]]\n"
     ]
    }
   ],
   "source": [
    "vjoin=np.vstack((array4,array5))\n",
    "print(vjoin)"
   ]
  },
  {
   "cell_type": "markdown",
   "id": "f6045dae-0d43-46a0-a6a7-592b5383baf6",
   "metadata": {},
   "source": [
    "HORIZONTAL JOIN"
   ]
  },
  {
   "cell_type": "code",
   "execution_count": 41,
   "id": "3ca586b0-130b-45ba-9430-b69a85083c2a",
   "metadata": {},
   "outputs": [
    {
     "name": "stdout",
     "output_type": "stream",
     "text": [
      "[[[1 2 3]\n",
      "  [3 4 5]\n",
      "  [3 2 3]\n",
      "  [8 4 9]]\n",
      "\n",
      " [[3 4 3]\n",
      "  [2 1 1]\n",
      "  [4 4 1]\n",
      "  [3 8 1]]]\n"
     ]
    }
   ],
   "source": [
    "hjoin=np.hstack((array4,array5))\n",
    "print(hjoin)"
   ]
  },
  {
   "cell_type": "code",
   "execution_count": null,
   "id": "de2f1fe4-613e-4e81-bc3a-2ab75bd4a8ef",
   "metadata": {},
   "outputs": [],
   "source": []
  }
 ],
 "metadata": {
  "kernelspec": {
   "display_name": "Python 3 (ipykernel)",
   "language": "python",
   "name": "python3"
  },
  "language_info": {
   "codemirror_mode": {
    "name": "ipython",
    "version": 3
   },
   "file_extension": ".py",
   "mimetype": "text/x-python",
   "name": "python",
   "nbconvert_exporter": "python",
   "pygments_lexer": "ipython3",
   "version": "3.12.4"
  }
 },
 "nbformat": 4,
 "nbformat_minor": 5
}
